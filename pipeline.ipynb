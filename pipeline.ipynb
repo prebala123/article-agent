{
 "cells": [
  {
   "cell_type": "code",
   "execution_count": 11,
   "id": "7b7c2e28",
   "metadata": {},
   "outputs": [],
   "source": [
    "from langchain import hub\n",
    "from langchain_community.document_loaders import WebBaseLoader\n",
    "from langchain_core.documents import Document\n",
    "from langchain_text_splitters import RecursiveCharacterTextSplitter\n",
    "from langgraph.graph import START, StateGraph\n",
    "from typing_extensions import List, TypedDict\n",
    "from langchain_community.vectorstores import Chroma\n",
    "from langchain.vectorstores.base import VectorStoreRetriever\n",
    "from langchain_huggingface import HuggingFaceEmbeddings\n",
    "from langchain_community.chat_models import ChatOllama\n",
    "from typing import TypedDict, List\n",
    "from langchain_core.output_parsers import StrOutputParser, JsonOutputParser\n",
    "from langchain_core.prompts import PromptTemplate\n",
    "from langchain_core.messages import AIMessage, HumanMessage\n",
    "from langgraph.graph import END, StateGraph\n",
    "from transformers import pipeline"
   ]
  },
  {
   "cell_type": "code",
   "execution_count": 3,
   "id": "bc2ad1f9",
   "metadata": {},
   "outputs": [
    {
     "name": "stdout",
     "output_type": "stream",
     "text": [
      "WARNING:tensorflow:From c:\\Users\\rebal\\article-agent\\rag\\Lib\\site-packages\\tf_keras\\src\\losses.py:2976: The name tf.losses.sparse_softmax_cross_entropy is deprecated. Please use tf.compat.v1.losses.sparse_softmax_cross_entropy instead.\n",
      "\n"
     ]
    },
    {
     "name": "stderr",
     "output_type": "stream",
     "text": [
      "C:\\Users\\rebal\\AppData\\Local\\Temp\\ipykernel_30124\\130061073.py:2: LangChainDeprecationWarning: The class `Chroma` was deprecated in LangChain 0.2.9 and will be removed in 1.0. An updated version of the class exists in the :class:`~langchain-chroma package and should be used instead. To use it run `pip install -U :class:`~langchain-chroma` and import as `from :class:`~langchain_chroma import Chroma``.\n",
      "  vectorstore = Chroma(persist_directory='./database', embedding_function=embedding)\n"
     ]
    }
   ],
   "source": [
    "embedding = HuggingFaceEmbeddings()\n",
    "vectorstore = Chroma(persist_directory='./database', embedding_function=embedding)"
   ]
  },
  {
   "cell_type": "code",
   "execution_count": 15,
   "id": "e37fa3e7",
   "metadata": {},
   "outputs": [],
   "source": [
    "retriever = vectorstore.as_retriever(search_kwargs={\"k\":5})"
   ]
  },
  {
   "cell_type": "code",
   "execution_count": 6,
   "id": "97db69ea",
   "metadata": {},
   "outputs": [
    {
     "data": {
      "text/plain": [
       "[Document(metadata={'title': 'Bodmin'}, page_content='Rebellions'),\n",
       " Document(metadata={'title': 'Anarchism'}, page_content='References\\n\\nExplanatory notes\\n\\nCitations\\n\\nGeneral and cited sources\\n\\nPrimary sources\\n\\nSecondary sources\\n\\nTertiary sources\\n\\nFurther reading \\n \\n  \\n  Criticism of philosophical anarchism.\\n \\n  A defence of philosophical anarchism, stating that \"both kinds of \\'anarchism\\' [i.e. philosophical and political anarchism] are philosophical and political claims.\" (p.\\xa0137)\\n  Anarchistic popular fiction novel.\\n \\n \\n \\n  An argument for philosophical anarchism.\\n\\nExternal links \\n\\n \\n Anarchy Archives – an online research center on the history and theory of anarchism.\\n\\n \\nAnti-capitalism\\nAnti-fascism\\nEconomic ideologies\\nFar-left politics\\nLeft-wing politics\\nLibertarian socialism\\nLibertarianism\\nPolitical culture\\nPolitical ideologies\\nPolitical movements\\nSocial theories\\nSocialism'),\n",
       " Document(metadata={'title': 'Albert Camus'}, page_content='Revolt'),\n",
       " Document(metadata={'title': 'Anarchism'}, page_content='Anarchists employ diverse approaches, which may be generally divided into revolutionary and evolutionary strategies; there is significant overlap between the two. Evolutionary methods try to simulate what an anarchist society might be like, but revolutionary tactics, which have historically taken a violent turn, aim to overthrow authority and the state. Many facets of human civilization have been influenced by anarchist theory, critique, and praxis.\\n\\nEtymology, terminology, and definition'),\n",
       " Document(metadata={'title': 'Anarchism'}, page_content=\"Humans have lived in societies without formal hierarchies long before the establishment of states, realms, or empires. With the rise of organised hierarchical bodies, scepticism toward authority also rose. Although traces of anarchist ideas are found all throughout history, modern anarchism emerged from the Enlightenment. During the latter half of the 19th and the first decades of the 20th century, the anarchist movement flourished in most parts of the world and had a significant role in workers' struggles for emancipation. Various anarchist schools of thought formed during this period. Anarchists have taken part in several revolutions, most notably in the Paris Commune, the Russian Civil War and the Spanish Civil War, whose end marked the end of the classical era of anarchism. In the last decades of the 20th and into the 21st century, the anarchist movement has been resurgent once more, growing in popularity and influence within anti-capitalist, anti-war and anti-globalisation movements.\"),\n",
       " Document(metadata={'title': 'Anarchism'}, page_content='Anarchism is a political philosophy and movement that is skeptical of all justifications for authority and seeks to abolish the institutions it claims maintain unnecessary coercion and hierarchy, typically including nation-states, and capitalism. Anarchism advocates for the replacement of the state with stateless societies and voluntary free associations. As a historically left-wing movement, this reading of anarchism is placed on the farthest left of the political spectrum, usually described as the libertarian wing of the socialist movement (libertarian socialism).'),\n",
       " Document(metadata={'title': 'Aedile'}, page_content='Under the Empire'),\n",
       " Document(metadata={'title': 'Albania'}, page_content='First Republic'),\n",
       " Document(metadata={'title': 'Anarchism'}, page_content='While having revolutionary aspirations, many forms of anarchism are not confrontational nowadays. Instead, they are trying to build an alternative way of social organization, based on mutual interdependence and voluntary cooperation. Scholar Carissa Honeywell takes the example of Food not Bombs group of collectives, to highlight some features of how anarchist groups work: direct action, working together and in solidarity with those left behind. While doing so, they inform about the rising rates of world hunger suggest a policy to tackle hunger, ranging from de-funding the arms industry to addressing Monsanto seed-saving policies and patents, helping farmers and commodification of food and housing. Honeywell also emphasizes that contemporary anarchists are interested in the flourishing not only of humans, but non-humans and the environment as well. Honeywell argues that escalation of problems such as continuous wars and world poverty show that the current framework not only cannot solve those pressing'),\n",
       " Document(metadata={'title': 'Anarchism'}, page_content='The state \\n\\nObjection to the state and its institutions is a sine qua non of anarchism. Anarchists consider the state as a tool of domination and believe it to be illegitimate regardless of its political tendencies. Instead of people being able to control the aspects of their life, major decisions are taken by a small elite. Authority ultimately rests solely on power, regardless of whether that power is open or transparent, as it still has the ability to coerce people. Another anarchist argument against states is that the people constituting a government, even the most altruistic among officials, will unavoidably seek to gain more power, leading to corruption. Anarchists consider the idea that the state is the collective will of the people to be an unachievable fiction due to the fact that the ruling class is distinct from the rest of society.')]"
      ]
     },
     "execution_count": 6,
     "metadata": {},
     "output_type": "execute_result"
    }
   ],
   "source": [
    "d = retriever.invoke('Anarchy')\n",
    "d"
   ]
  },
  {
   "cell_type": "code",
   "execution_count": 50,
   "id": "08fd5fc7",
   "metadata": {},
   "outputs": [],
   "source": [
    "class GraphState(TypedDict):\n",
    "    question: str\n",
    "    documents: List[Document]\n",
    "    answer: str"
   ]
  },
  {
   "cell_type": "code",
   "execution_count": 12,
   "id": "4b6ffe77",
   "metadata": {},
   "outputs": [
    {
     "name": "stderr",
     "output_type": "stream",
     "text": [
      "No model was supplied, defaulted to distilbert/distilbert-base-cased-distilled-squad and revision 564e9b5 (https://huggingface.co/distilbert/distilbert-base-cased-distilled-squad).\n",
      "Using a pipeline without specifying a model name and revision in production is not recommended.\n",
      "Device set to use cpu\n"
     ]
    }
   ],
   "source": [
    "model = pipeline(\"question-answering\")"
   ]
  },
  {
   "cell_type": "code",
   "execution_count": 51,
   "id": "37519df1",
   "metadata": {},
   "outputs": [],
   "source": [
    "def retrieve(state):\n",
    "        \"\"\"\n",
    "        Uses the query to match documents in the database that are similar to the question.\n",
    "        \"\"\"\n",
    "        print('---RETRIEVE---')\n",
    "        question = state['question']\n",
    "\n",
    "        documents = retriever.invoke(question)\n",
    "        return {'documents': documents, 'question': question}\n",
    "\n",
    "def generate(state):\n",
    "        \"\"\"\n",
    "        Generate the answer to the question.\n",
    "        \"\"\"\n",
    "        print('---GENERATE---')\n",
    "        question = state['question']\n",
    "        documents = state['documents']\n",
    "        context = '\\n\\n'.join([d.page_content for d in documents])\n",
    "\n",
    "        answer = model(question = question, context = context)['answer']\n",
    "        return {'documents': documents, 'question': question, 'answer': answer}"
   ]
  },
  {
   "cell_type": "code",
   "execution_count": 52,
   "id": "9f0a024e",
   "metadata": {},
   "outputs": [],
   "source": [
    "question = 'Who was Achilles'\n",
    "documents = retriever.invoke(question)"
   ]
  },
  {
   "cell_type": "code",
   "execution_count": 53,
   "id": "eb2d08af",
   "metadata": {},
   "outputs": [],
   "source": [
    "# context = '\\n\\n'.join([d.page_content for d in documents])\n",
    "# print(context)"
   ]
  },
  {
   "cell_type": "code",
   "execution_count": 54,
   "id": "7e9fa98f",
   "metadata": {},
   "outputs": [],
   "source": [
    "# model(question = question, context = context)['answer']"
   ]
  },
  {
   "cell_type": "code",
   "execution_count": 55,
   "id": "894ad33a",
   "metadata": {},
   "outputs": [],
   "source": [
    "workflow = StateGraph(GraphState)\n",
    "workflow.add_node('retrieve', retrieve)\n",
    "workflow.add_node('generate', generate)\n",
    "\n",
    "workflow.set_entry_point('retrieve')\n",
    "workflow.add_edge('retrieve', 'generate')\n",
    "workflow.add_edge('generate', END)\n",
    "\n",
    "graph = workflow.compile()"
   ]
  },
  {
   "cell_type": "code",
   "execution_count": 56,
   "id": "e1895c55",
   "metadata": {},
   "outputs": [
    {
     "name": "stdout",
     "output_type": "stream",
     "text": [
      "---RETRIEVE---\n",
      "---GENERATE---\n"
     ]
    }
   ],
   "source": [
    "result = graph.invoke({\"question\": question})"
   ]
  },
  {
   "cell_type": "code",
   "execution_count": 58,
   "id": "586cf4bb",
   "metadata": {},
   "outputs": [
    {
     "data": {
      "text/plain": [
       "'a hero of the Trojan War'"
      ]
     },
     "execution_count": 58,
     "metadata": {},
     "output_type": "execute_result"
    }
   ],
   "source": [
    "result['answer']"
   ]
  }
 ],
 "metadata": {
  "kernelspec": {
   "display_name": "rag",
   "language": "python",
   "name": "python3"
  },
  "language_info": {
   "codemirror_mode": {
    "name": "ipython",
    "version": 3
   },
   "file_extension": ".py",
   "mimetype": "text/x-python",
   "name": "python",
   "nbconvert_exporter": "python",
   "pygments_lexer": "ipython3",
   "version": "3.12.10"
  }
 },
 "nbformat": 4,
 "nbformat_minor": 5
}
